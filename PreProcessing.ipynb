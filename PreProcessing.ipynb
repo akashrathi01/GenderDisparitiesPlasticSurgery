{
 "cells": [
  {
   "cell_type": "code",
   "execution_count": 1,
   "metadata": {
    "id": "DdlO9gaE39Ux"
   },
   "outputs": [],
   "source": [
    "import pandas as pd\n",
    "import numpy as np\n",
    "import statistics\n",
    "import math"
   ]
  },
  {
   "cell_type": "code",
   "execution_count": null,
   "metadata": {
    "colab": {
     "base_uri": "https://localhost:8080/"
    },
    "id": "iNpeW2XG4Bic",
    "outputId": "9573271a-6ae2-4a47-b3b8-8130a06c9a0a"
   },
   "outputs": [
    {
     "name": "stdout",
     "output_type": "stream",
     "text": [
      "Mounted at /content/drive\n"
     ]
    }
   ],
   "source": [
    "from google.colab import drive\n",
    "drive.mount('/content/drive')"
   ]
  },
  {
   "cell_type": "code",
   "execution_count": null,
   "metadata": {
    "id": "90K6W4D14BlD"
   },
   "outputs": [],
   "source": [
    "file_path = \"/content/drive/MyDrive/BrownMedResearch/Glane.csv\"\n",
    "df = pd.read_csv(file_path)"
   ]
  },
  {
   "cell_type": "code",
   "execution_count": 2,
   "metadata": {},
   "outputs": [],
   "source": [
    "df = pd.read_csv('Glane.csv')"
   ]
  },
  {
   "cell_type": "code",
   "execution_count": 7,
   "metadata": {
    "id": "NTefT1iC4Bnq"
   },
   "outputs": [],
   "source": [
    "data = df\n",
    "data = data.drop(['Unnamed: 0'], axis = 1)"
   ]
  },
  {
   "cell_type": "code",
   "execution_count": 8,
   "metadata": {
    "colab": {
     "base_uri": "https://localhost:8080/",
     "height": 1000
    },
    "id": "OgF-tPS56viM",
    "outputId": "b405a11e-d465-4f59-e0f1-d9b2a65fac78"
   },
   "outputs": [
    {
     "data": {
      "text/plain": [
       "4"
      ]
     },
     "execution_count": 8,
     "metadata": {},
     "output_type": "execute_result"
    }
   ],
   "source": [
    "len(data['Author Full Names'][0].split(';'))"
   ]
  },
  {
   "cell_type": "code",
   "execution_count": 9,
   "metadata": {
    "id": "ekxwFLRz4BqS"
   },
   "outputs": [],
   "source": [
    "drop_list = []\n",
    "\n",
    "for i,name in enumerate(data['label_first_author']):\n",
    "  if name == 'unknown':\n",
    "    drop_list.append(i)\n",
    "data = data.drop(drop_list, axis=0).reset_index()\n",
    "\n",
    "drop_list = []\n",
    "\n",
    "for i,name in enumerate(data['label_last_author']):\n",
    "  if name == 'unknown':\n",
    "    drop_list.append(i)\n",
    "data = data.drop(drop_list, axis=0).reset_index()"
   ]
  },
  {
   "cell_type": "code",
   "execution_count": 10,
   "metadata": {
    "colab": {
     "base_uri": "https://localhost:8080/"
    },
    "id": "iFhaOB1L4Bso",
    "outputId": "5589c17b-c30c-4823-c71a-814475cbbefb"
   },
   "outputs": [
    {
     "name": "stderr",
     "output_type": "stream",
     "text": [
      "<ipython-input-10-9790e0c5aca3>:3: SettingWithCopyWarning: \n",
      "A value is trying to be set on a copy of a slice from a DataFrame\n",
      "\n",
      "See the caveats in the documentation: https://pandas.pydata.org/pandas-docs/stable/user_guide/indexing.html#returning-a-view-versus-a-copy\n",
      "  data['Author Count'][i] = len(data['Author Full Names'][i].split(';'))\n"
     ]
    }
   ],
   "source": [
    "data['Author Count'] = 0\n",
    "for i in range(0,data.shape[0]):\n",
    "   data['Author Count'][i] = len(data['Author Full Names'][i].split(';'))"
   ]
  },
  {
   "cell_type": "code",
   "execution_count": 12,
   "metadata": {},
   "outputs": [
    {
     "data": {
      "text/plain": [
       "'Mustoe, Thomas A.; Cooter, Rod D.; Gold, Michael H.; Hobbs, R; Ramelet, AA; Shakespeare, PG; Stella, M; Téot, L; Wood, Fiona M.; Ziegler, UE'"
      ]
     },
     "execution_count": 12,
     "metadata": {},
     "output_type": "execute_result"
    }
   ],
   "source": [
    "data['Author Full Names'][3]"
   ]
  },
  {
   "cell_type": "code",
   "execution_count": null,
   "metadata": {
    "colab": {
     "base_uri": "https://localhost:8080/",
     "height": 524
    },
    "id": "Ra6DnDcL4BvP",
    "outputId": "cadf90dd-44b8-4b8f-b8fa-649077c18b29"
   },
   "outputs": [
    {
     "ename": "KeyError",
     "evalue": "'Article Type'",
     "output_type": "error",
     "traceback": [
      "\u001b[0;31m---------------------------------------------------------------------------\u001b[0m",
      "\u001b[0;31mKeyError\u001b[0m                                  Traceback (most recent call last)",
      "\u001b[0;32m/usr/local/lib/python3.10/dist-packages/pandas/core/indexes/base.py\u001b[0m in \u001b[0;36mget_loc\u001b[0;34m(self, key, method, tolerance)\u001b[0m\n\u001b[1;32m   3801\u001b[0m             \u001b[0;32mtry\u001b[0m\u001b[0;34m:\u001b[0m\u001b[0;34m\u001b[0m\u001b[0;34m\u001b[0m\u001b[0m\n\u001b[0;32m-> 3802\u001b[0;31m                 \u001b[0;32mreturn\u001b[0m \u001b[0mself\u001b[0m\u001b[0;34m.\u001b[0m\u001b[0m_engine\u001b[0m\u001b[0;34m.\u001b[0m\u001b[0mget_loc\u001b[0m\u001b[0;34m(\u001b[0m\u001b[0mcasted_key\u001b[0m\u001b[0;34m)\u001b[0m\u001b[0;34m\u001b[0m\u001b[0;34m\u001b[0m\u001b[0m\n\u001b[0m\u001b[1;32m   3803\u001b[0m             \u001b[0;32mexcept\u001b[0m \u001b[0mKeyError\u001b[0m \u001b[0;32mas\u001b[0m \u001b[0merr\u001b[0m\u001b[0;34m:\u001b[0m\u001b[0;34m\u001b[0m\u001b[0;34m\u001b[0m\u001b[0m\n",
      "\u001b[0;32m/usr/local/lib/python3.10/dist-packages/pandas/_libs/index.pyx\u001b[0m in \u001b[0;36mpandas._libs.index.IndexEngine.get_loc\u001b[0;34m()\u001b[0m\n",
      "\u001b[0;32m/usr/local/lib/python3.10/dist-packages/pandas/_libs/index.pyx\u001b[0m in \u001b[0;36mpandas._libs.index.IndexEngine.get_loc\u001b[0;34m()\u001b[0m\n",
      "\u001b[0;32mpandas/_libs/hashtable_class_helper.pxi\u001b[0m in \u001b[0;36mpandas._libs.hashtable.PyObjectHashTable.get_item\u001b[0;34m()\u001b[0m\n",
      "\u001b[0;32mpandas/_libs/hashtable_class_helper.pxi\u001b[0m in \u001b[0;36mpandas._libs.hashtable.PyObjectHashTable.get_item\u001b[0;34m()\u001b[0m\n",
      "\u001b[0;31mKeyError\u001b[0m: 'Article Type'",
      "\nThe above exception was the direct cause of the following exception:\n",
      "\u001b[0;31mKeyError\u001b[0m                                  Traceback (most recent call last)",
      "\u001b[0;32m<ipython-input-9-472d996fe7e2>\u001b[0m in \u001b[0;36m<cell line: 4>\u001b[0;34m()\u001b[0m\n\u001b[1;32m      2\u001b[0m \u001b[0;34m\u001b[0m\u001b[0m\n\u001b[1;32m      3\u001b[0m \u001b[0;31m# Create a dummy variable for the specified value\u001b[0m\u001b[0;34m\u001b[0m\u001b[0;34m\u001b[0m\u001b[0m\n\u001b[0;32m----> 4\u001b[0;31m \u001b[0mdummy_variable\u001b[0m \u001b[0;34m=\u001b[0m \u001b[0mpd\u001b[0m\u001b[0;34m.\u001b[0m\u001b[0mget_dummies\u001b[0m\u001b[0;34m(\u001b[0m\u001b[0mdata\u001b[0m\u001b[0;34m[\u001b[0m\u001b[0;34m'Article Type'\u001b[0m\u001b[0;34m]\u001b[0m \u001b[0;34m==\u001b[0m \u001b[0mvalue_to_dummy\u001b[0m\u001b[0;34m,\u001b[0m \u001b[0mprefix\u001b[0m\u001b[0;34m=\u001b[0m\u001b[0;34mf'{value_to_dummy}_dummy'\u001b[0m\u001b[0;34m,\u001b[0m \u001b[0mdrop_first\u001b[0m\u001b[0;34m=\u001b[0m\u001b[0;32mTrue\u001b[0m\u001b[0;34m)\u001b[0m\u001b[0;34m\u001b[0m\u001b[0;34m\u001b[0m\u001b[0m\n\u001b[0m\u001b[1;32m      5\u001b[0m \u001b[0;34m\u001b[0m\u001b[0m\n\u001b[1;32m      6\u001b[0m \u001b[0;31m# Concatenate the dummy variable with the original DataFrame\u001b[0m\u001b[0;34m\u001b[0m\u001b[0;34m\u001b[0m\u001b[0m\n",
      "\u001b[0;32m/usr/local/lib/python3.10/dist-packages/pandas/core/frame.py\u001b[0m in \u001b[0;36m__getitem__\u001b[0;34m(self, key)\u001b[0m\n\u001b[1;32m   3805\u001b[0m             \u001b[0;32mif\u001b[0m \u001b[0mself\u001b[0m\u001b[0;34m.\u001b[0m\u001b[0mcolumns\u001b[0m\u001b[0;34m.\u001b[0m\u001b[0mnlevels\u001b[0m \u001b[0;34m>\u001b[0m \u001b[0;36m1\u001b[0m\u001b[0;34m:\u001b[0m\u001b[0;34m\u001b[0m\u001b[0;34m\u001b[0m\u001b[0m\n\u001b[1;32m   3806\u001b[0m                 \u001b[0;32mreturn\u001b[0m \u001b[0mself\u001b[0m\u001b[0;34m.\u001b[0m\u001b[0m_getitem_multilevel\u001b[0m\u001b[0;34m(\u001b[0m\u001b[0mkey\u001b[0m\u001b[0;34m)\u001b[0m\u001b[0;34m\u001b[0m\u001b[0;34m\u001b[0m\u001b[0m\n\u001b[0;32m-> 3807\u001b[0;31m             \u001b[0mindexer\u001b[0m \u001b[0;34m=\u001b[0m \u001b[0mself\u001b[0m\u001b[0;34m.\u001b[0m\u001b[0mcolumns\u001b[0m\u001b[0;34m.\u001b[0m\u001b[0mget_loc\u001b[0m\u001b[0;34m(\u001b[0m\u001b[0mkey\u001b[0m\u001b[0;34m)\u001b[0m\u001b[0;34m\u001b[0m\u001b[0;34m\u001b[0m\u001b[0m\n\u001b[0m\u001b[1;32m   3808\u001b[0m             \u001b[0;32mif\u001b[0m \u001b[0mis_integer\u001b[0m\u001b[0;34m(\u001b[0m\u001b[0mindexer\u001b[0m\u001b[0;34m)\u001b[0m\u001b[0;34m:\u001b[0m\u001b[0;34m\u001b[0m\u001b[0;34m\u001b[0m\u001b[0m\n\u001b[1;32m   3809\u001b[0m                 \u001b[0mindexer\u001b[0m \u001b[0;34m=\u001b[0m \u001b[0;34m[\u001b[0m\u001b[0mindexer\u001b[0m\u001b[0;34m]\u001b[0m\u001b[0;34m\u001b[0m\u001b[0;34m\u001b[0m\u001b[0m\n",
      "\u001b[0;32m/usr/local/lib/python3.10/dist-packages/pandas/core/indexes/base.py\u001b[0m in \u001b[0;36mget_loc\u001b[0;34m(self, key, method, tolerance)\u001b[0m\n\u001b[1;32m   3802\u001b[0m                 \u001b[0;32mreturn\u001b[0m \u001b[0mself\u001b[0m\u001b[0;34m.\u001b[0m\u001b[0m_engine\u001b[0m\u001b[0;34m.\u001b[0m\u001b[0mget_loc\u001b[0m\u001b[0;34m(\u001b[0m\u001b[0mcasted_key\u001b[0m\u001b[0;34m)\u001b[0m\u001b[0;34m\u001b[0m\u001b[0;34m\u001b[0m\u001b[0m\n\u001b[1;32m   3803\u001b[0m             \u001b[0;32mexcept\u001b[0m \u001b[0mKeyError\u001b[0m \u001b[0;32mas\u001b[0m \u001b[0merr\u001b[0m\u001b[0;34m:\u001b[0m\u001b[0;34m\u001b[0m\u001b[0;34m\u001b[0m\u001b[0m\n\u001b[0;32m-> 3804\u001b[0;31m                 \u001b[0;32mraise\u001b[0m \u001b[0mKeyError\u001b[0m\u001b[0;34m(\u001b[0m\u001b[0mkey\u001b[0m\u001b[0;34m)\u001b[0m \u001b[0;32mfrom\u001b[0m \u001b[0merr\u001b[0m\u001b[0;34m\u001b[0m\u001b[0;34m\u001b[0m\u001b[0m\n\u001b[0m\u001b[1;32m   3805\u001b[0m             \u001b[0;32mexcept\u001b[0m \u001b[0mTypeError\u001b[0m\u001b[0;34m:\u001b[0m\u001b[0;34m\u001b[0m\u001b[0;34m\u001b[0m\u001b[0m\n\u001b[1;32m   3806\u001b[0m                 \u001b[0;31m# If we have a listlike key, _check_indexing_error will raise\u001b[0m\u001b[0;34m\u001b[0m\u001b[0;34m\u001b[0m\u001b[0m\n",
      "\u001b[0;31mKeyError\u001b[0m: 'Article Type'"
     ]
    }
   ],
   "source": [
    "value_to_dummy = 'Review'\n",
    "\n",
    "# Create a dummy variable for the specified value\n",
    "dummy_variable = pd.get_dummies(data['Article Type'] == value_to_dummy, prefix=f'{value_to_dummy}_dummy', drop_first=True)\n",
    "\n",
    "# Concatenate the dummy variable with the original DataFrame\n",
    "data = pd.concat([data, dummy_variable], axis=1)"
   ]
  },
  {
   "cell_type": "code",
   "execution_count": null,
   "metadata": {
    "id": "rEafNDuE4Bx2"
   },
   "outputs": [],
   "source": [
    "data['Gender'] = ' '\n",
    "\n",
    "for i, author1 in enumerate(data['label_first_author']):\n",
    "    if data['label_first_author'][i] == 'male' and data['label_last_author'][i] == 'male':\n",
    "        data.at[i, 'Gender'] = 'M/M'\n",
    "    elif data['label_first_author'][i] == 'male' and data['label_last_author'][i] == 'female':\n",
    "        data.at[i, 'Gender'] = 'M/F'\n",
    "    elif data['label_first_author'][i] == 'female' and data['label_last_author'][i] == 'male':\n",
    "        data.at[i, 'Gender'] = 'F/M'\n",
    "    elif data['label_first_author'][i] == 'female' and data['label_last_author'][i] == 'female':\n",
    "        data.at[i, 'Gender'] = 'F/F'\n",
    "\n",
    "data.Gender.value_counts()"
   ]
  },
  {
   "cell_type": "code",
   "execution_count": null,
   "metadata": {
    "id": "S3z4eD0V4OKK"
   },
   "outputs": [],
   "source": [
    "data['total_author_cites'] = 0\n",
    "for i in range(0,data.shape[0]):\n",
    "  a1_name = data.loc[i,'first_author']\n",
    "  a2_name = data.loc[i,'last_author']\n",
    "  a1_name_count = data.loc[data['first_author']==a1_name].shape[0]\n",
    "  a2_name_count = data.loc[data['last_author']==a2_name].shape[0]\n",
    "  total_count = a1_name_count + a2_name_count\n",
    "  data['total_author_cites'][i]= total_count"
   ]
  },
  {
   "cell_type": "code",
   "execution_count": null,
   "metadata": {
    "id": "AHmmZaru4QdA"
   },
   "outputs": [],
   "source": [
    "data['M/M'] = 0\n",
    "data['M/F'] = 0\n",
    "data['F/M'] = 0\n",
    "data['F/F'] = 0\n",
    "data['M/M Self Cite'] = 0\n",
    "data['M/F Self Cite'] = 0\n",
    "data['F/M Self Cite'] = 0\n",
    "data['F/F Self Cite'] = 0\n",
    "\n",
    "\n",
    "index = 0\n",
    "doi = ' '\n",
    "empty_doi = []\n",
    "citation_count = 0\n",
    "for i,cite in enumerate(data['Cited References'][:]):\n",
    "  for j,doi_string in enumerate(cite.split()):\n",
    "      if doi_string == 'doi':\n",
    "        doi = cite.split()[j+1][0:-1]\n",
    "        citation_count+=1\n",
    "        if data[data['DOI'] == doi].shape[0] == 0:\n",
    "          empty_doi.append(i)\n",
    "        else:\n",
    "          print(i)\n",
    "          index = data[data['DOI'] == doi].index\n",
    "          gender_value = data.loc[index, 'Gender'].iloc[0]\n",
    "          a1_name = data.loc[index,'first_author']\n",
    "          a2_name = data.loc[index,'last_author']\n",
    "          a1_Name_ref = data.loc[i,'first_author']\n",
    "          a2_Name_ref = data.loc[i,'last_author']\n",
    "          if (a1_name != a1_Name_ref).any() and (a2_name != a2_Name_ref).any() and (a1_name != a2_Name_ref).any() and (a2_name != a2_Name_ref).any():\n",
    "          #if (a1_forename != a1_forename_ref).any() and (a1_surname != a1_surname_ref).any() and (a2_forename != a2_forename_ref).any() and (a2_surname != a2_surname_ref).any() and (a1_forename != a2_forename_ref).any() and (a1_surname != a2_surname_ref).any() and (a2_forename !=a1_forename_ref).any() and (a2_surname != a1_surname_ref).any():\n",
    "            if gender_value == 'M/M':\n",
    "              data['M/M'][i] +=1\n",
    "            elif gender_value == 'M/F':\n",
    "              data['M/F'][i] +=1\n",
    "            elif gender_value == 'F/M':\n",
    "              data['F/M'][i] +=1\n",
    "            elif gender_value == 'F/F':\n",
    "              data['F/F'][i] +=1\n",
    "          else:\n",
    "            if gender_value == 'M/M':\n",
    "              data['M/M Self Cite'][i] +=1\n",
    "            elif gender_value == 'M/F':\n",
    "              data['M/F Self Cite'][i] +=1\n",
    "            elif gender_value == 'F/M':\n",
    "              data['F/M Self Cite'][i] +=1\n",
    "            elif gender_value == 'F/F':\n",
    "              data['F/F Self Cite'][i] +=1"
   ]
  },
  {
   "cell_type": "code",
   "execution_count": null,
   "metadata": {
    "id": "pl3gk7BU4gSy"
   },
   "outputs": [],
   "source": [
    "drop_list = []\n",
    "for i,first in enumerate(data.first_author):\n",
    "  first_name = first.split(',')[1]\n",
    "  if len(first_name) <= 3:\n",
    "    drop_list.append(i)\n",
    "\n",
    "for i,first in enumerate(data.last_author):\n",
    "  first_name = first.split(',')[1]\n",
    "  if len(first_name) <= 3:\n",
    "    drop_list.append(i)\n",
    "\n",
    "data = data.drop(drop_list, axis=0).reset_index()"
   ]
  },
  {
   "cell_type": "code",
   "execution_count": null,
   "metadata": {
    "id": "vNtZFaPQ4TRr"
   },
   "outputs": [],
   "source": [
    "data.to_csv('/content/drive/MyDrive/BrownMedResearch/final_data.csv', index=False)"
   ]
  },
  {
   "cell_type": "code",
   "execution_count": null,
   "metadata": {
    "id": "GwJzy9gD4TeO"
   },
   "outputs": [],
   "source": []
  },
  {
   "cell_type": "code",
   "execution_count": null,
   "metadata": {
    "id": "fCQd4zQw4ThG"
   },
   "outputs": [],
   "source": []
  }
 ],
 "metadata": {
  "colab": {
   "provenance": []
  },
  "kernelspec": {
   "display_name": "Python 3",
   "language": "python",
   "name": "python3"
  },
  "language_info": {
   "codemirror_mode": {
    "name": "ipython",
    "version": 3
   },
   "file_extension": ".py",
   "mimetype": "text/x-python",
   "name": "python",
   "nbconvert_exporter": "python",
   "pygments_lexer": "ipython3",
   "version": "3.8.8"
  }
 },
 "nbformat": 4,
 "nbformat_minor": 1
}
